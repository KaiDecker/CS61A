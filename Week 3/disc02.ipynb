{
 "cells": [
  {
   "cell_type": "code",
   "execution_count": 3,
   "id": "118b7409",
   "metadata": {},
   "outputs": [
    {
     "name": "stdout",
     "output_type": "stream",
     "text": [
      "2\n",
      "4\n",
      "1\n",
      "2\n",
      "3\n",
      "4\n",
      "5\n"
     ]
    }
   ],
   "source": [
    "def make_keeper(n):\n",
    "    \"\"\"Returns a function that takes one parameter cond and prints\n",
    "    out all integers 1..i..n where calling cond(i) returns True.\n",
    "\n",
    "    >>> def is_even(x): # Even numbers have remainder 0 when divided by 2.\n",
    "    ...     return x % 2 == 0\n",
    "    >>> make_keeper(5)(is_even)\n",
    "    2\n",
    "    4\n",
    "    >>> make_keeper(5)(lambda x: True)\n",
    "    1\n",
    "    2\n",
    "    3\n",
    "    4\n",
    "    5\n",
    "    >>> make_keeper(5)(lambda x: False)  # Nothing is printed\n",
    "    \"\"\"\n",
    "    \"*** YOUR CODE HERE ***\"\n",
    "    def func(cond):\n",
    "        for i in range(1, n + 1):\n",
    "            if cond(i):\n",
    "                print(i)\n",
    "    return func\n",
    "\n",
    "make_keeper(5)(lambda x: x % 2 == 0)\n",
    "\n",
    "make_keeper(5)(lambda x: True)\n",
    "\n",
    "make_keeper(5)(lambda x: False)"
   ]
  },
  {
   "cell_type": "code",
   "execution_count": 4,
   "id": "00b57c21",
   "metadata": {},
   "outputs": [
    {
     "name": "stdout",
     "output_type": "stream",
     "text": [
      "5\n",
      "7\n",
      "0\n",
      "0\n"
     ]
    }
   ],
   "source": [
    "def find_digit(k):\n",
    "    \"\"\"Returns a function that returns the kth digit of x.\n",
    "    >>> find_digit(2)(3456)\n",
    "    5\n",
    "    >>> find_digit(2)(5678)\n",
    "    7\n",
    "    >>> find_digit(1)(10)\n",
    "    0\n",
    "    >>> find_digit(4)(789)\n",
    "    0\n",
    "    \"\"\"\n",
    "    assert k > 0\n",
    "    \"*** YOUR CODE HERE ***\"\n",
    "    def func(x):\n",
    "        i = 0\n",
    "        while i < k:\n",
    "            digit = x % 10\n",
    "            x //= 10\n",
    "            i += 1\n",
    "        if i == k:\n",
    "            return digit\n",
    "        else:\n",
    "            return 0\n",
    "    return func\n",
    "\n",
    "print(find_digit(2)(3456))\n",
    "\n",
    "print(find_digit(2)(5678))\n",
    "\n",
    "print(find_digit(1)(10))\n",
    "\n",
    "print(find_digit(4)(789))"
   ]
  },
  {
   "cell_type": "code",
   "execution_count": 6,
   "id": "6f2ed2a1",
   "metadata": {},
   "outputs": [
    {
     "name": "stdout",
     "output_type": "stream",
     "text": [
      "True\n",
      "False\n",
      "False\n",
      "True\n",
      "False\n",
      "True\n",
      "False\n"
     ]
    }
   ],
   "source": [
    "def match_k(k):\n",
    "    \"\"\"Returns a function that checks if digits k apart match.\n",
    "\n",
    "    >>> match_k(2)(1010)\n",
    "    True\n",
    "    >>> match_k(2)(2010)\n",
    "    False\n",
    "    >>> match_k(1)(1010)\n",
    "    False\n",
    "    >>> match_k(1)(1)\n",
    "    True\n",
    "    >>> match_k(1)(2111111111111111)\n",
    "    False\n",
    "    >>> match_k(3)(123123)\n",
    "    True\n",
    "    >>> match_k(2)(123123)\n",
    "    False\n",
    "    \"\"\"\n",
    "    def check(x):\n",
    "        while x // (10 ** k) > 0:\n",
    "            if x % 10 != (x // (10 ** k)) % 10:\n",
    "                return False\n",
    "            x //= 10\n",
    "        return True\n",
    "    return check\n",
    "\n",
    "print(match_k(2)(1010))\n",
    "\n",
    "print(match_k(2)(2010))\n",
    "\n",
    "print(match_k(1)(1010))\n",
    "\n",
    "print(match_k(1)(1))\n",
    "\n",
    "print(match_k(1)(2111111111111111))\n",
    "\n",
    "print(match_k(3)(123123))\n",
    "\n",
    "print(match_k(2)(123123))"
   ]
  }
 ],
 "metadata": {
  "kernelspec": {
   "display_name": "Python 3",
   "language": "python",
   "name": "python3"
  },
  "language_info": {
   "codemirror_mode": {
    "name": "ipython",
    "version": 3
   },
   "file_extension": ".py",
   "mimetype": "text/x-python",
   "name": "python",
   "nbconvert_exporter": "python",
   "pygments_lexer": "ipython3",
   "version": "3.13.2"
  }
 },
 "nbformat": 4,
 "nbformat_minor": 5
}
