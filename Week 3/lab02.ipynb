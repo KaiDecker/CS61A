{
 "cells": [
  {
   "cell_type": "markdown",
   "id": "20f3edf9",
   "metadata": {},
   "source": [
    "根据实例可以看出"
   ]
  },
  {
   "cell_type": "code",
   "execution_count": 3,
   "id": "b2d69a83",
   "metadata": {},
   "outputs": [
    {
     "name": "stdout",
     "output_type": "stream",
     "text": [
      "True\n",
      "False\n"
     ]
    }
   ],
   "source": [
    "def composite_identity(f, g):\n",
    "    \"\"\"\n",
    "    Return a function with one parameter x that returns True if f(g(x)) is\n",
    "    equal to g(f(x)). You can assume the result of g(x) is a valid input for f\n",
    "    and vice versa.\n",
    "\n",
    "    >>> add_one = lambda x: x + 1        # adds one to x\n",
    "    >>> square = lambda x: x**2          # squares x [returns x^2]\n",
    "    >>> b1 = composite_identity(square, add_one)\n",
    "    >>> b1(0)                            # (0 + 1) ** 2 == 0 ** 2 + 1\n",
    "    True\n",
    "    >>> b1(4)                            # (4 + 1) ** 2 != 4 ** 2 + 1\n",
    "    False\n",
    "    \"\"\"\n",
    "    \"*** YOUR CODE HERE ***\"\n",
    "    def func(x):\n",
    "        return f(g(x)) == g(f(x))\n",
    "    return func\n",
    "\n",
    "print(composite_identity(lambda x: x + 1, lambda x: x**2)(0))\n",
    "\n",
    "print(composite_identity(lambda x: x + 1, lambda x: x**2)(4))"
   ]
  },
  {
   "cell_type": "markdown",
   "id": "d82e65e0",
   "metadata": {},
   "source": [
    "同样使用闭包的思想"
   ]
  },
  {
   "cell_type": "code",
   "execution_count": 4,
   "id": "5e1f1ba6",
   "metadata": {},
   "outputs": [
    {
     "name": "stdout",
     "output_type": "stream",
     "text": [
      "1\n",
      "4\n",
      "1\n"
     ]
    }
   ],
   "source": [
    "def sum_digits(y):\n",
    "    \"\"\"Return the sum of the digits of non-negative integer y.\"\"\"\n",
    "    total = 0\n",
    "    while y > 0:\n",
    "        total, y = total + y % 10, y // 10\n",
    "    return total\n",
    "\n",
    "def is_prime(n):\n",
    "    \"\"\"Return whether positive integer n is prime.\"\"\"\n",
    "    if n == 1:\n",
    "        return False\n",
    "    k = 2\n",
    "    while k < n:\n",
    "        if n % k == 0:\n",
    "            return False\n",
    "        k += 1\n",
    "    return True\n",
    "\n",
    "def count_cond(condition):\n",
    "    \"\"\"Returns a function with one parameter N that counts all the numbers from\n",
    "    1 to N that satisfy the two-argument predicate function Condition, where\n",
    "    the first argument for Condition is N and the second argument is the\n",
    "    number from 1 to N.\n",
    "\n",
    "    >>> count_fives = count_cond(lambda n, i: sum_digits(n * i) == 5)\n",
    "    >>> count_fives(10)   # 50 (10 * 5)\n",
    "    1\n",
    "    >>> count_fives(50)   # 50 (50 * 1), 500 (50 * 10), 1400 (50 * 28), 2300 (50 * 46)\n",
    "    4\n",
    "\n",
    "    >>> is_i_prime = lambda n, i: is_prime(i) # need to pass 2-argument function into count_cond\n",
    "    >>> count_primes = count_cond(is_i_prime)\n",
    "    >>> count_primes(2)    # 2\n",
    "    1\n",
    "    >>> count_primes(3)    # 2, 3\n",
    "    2\n",
    "    >>> count_primes(4)    # 2, 3\n",
    "    2\n",
    "    >>> count_primes(5)    # 2, 3, 5\n",
    "    3\n",
    "    >>> count_primes(20)   # 2, 3, 5, 7, 11, 13, 17, 19\n",
    "    8\n",
    "    \"\"\"\n",
    "    \"*** YOUR CODE HERE ***\"\n",
    "    def func(N):\n",
    "        i, count = 1, 0\n",
    "        while i <= N:\n",
    "            if condition(N, i):\n",
    "                count += 1\n",
    "            i += 1\n",
    "        return count\n",
    "    return func\n",
    "\n",
    "print(count_cond(lambda n, i: sum_digits(n * i) == 5)(10))\n",
    "\n",
    "print(count_cond(lambda n, i: sum_digits(n * i) == 5)(50))\n",
    "\n",
    "print(count_cond(lambda n, i: is_prime(i))(2))"
   ]
  },
  {
   "cell_type": "code",
   "execution_count": 5,
   "id": "5a54165e",
   "metadata": {},
   "outputs": [
    {
     "name": "stdout",
     "output_type": "stream",
     "text": [
      "12\n",
      "42\n"
     ]
    }
   ],
   "source": [
    "def multiple(a, b):\n",
    "    \"\"\"Return the smallest number n that is a multiple of both a and b. \n",
    "\n",
    "    >>> multiple(3, 4)\n",
    "    12\n",
    "    >>> multiple(14, 21)\n",
    "    42\n",
    "    \"\"\"\n",
    "    \"*** YOUR CODE HERE ***\"\n",
    "    n = a\n",
    "    while n % b != 0:\n",
    "        n += a\n",
    "    return n\n",
    "\n",
    "print(multiple(3, 4))\n",
    "\n",
    "print(multiple(14, 21))"
   ]
  },
  {
   "cell_type": "markdown",
   "id": "8ff68a73",
   "metadata": {},
   "source": [
    "有点困难"
   ]
  },
  {
   "cell_type": "code",
   "execution_count": 6,
   "id": "3b37f34b",
   "metadata": {},
   "outputs": [
    {
     "name": "stdout",
     "output_type": "stream",
     "text": [
      "5\n",
      "4\n",
      "9\n",
      "10\n",
      "19\n"
     ]
    }
   ],
   "source": [
    "def cycle(f1, f2, f3):\n",
    "    \"\"\"Returns a function that is itself a higher-order function.\n",
    "\n",
    "    >>> def add1(x):\n",
    "    ...     return x + 1\n",
    "    >>> def times2(x):\n",
    "    ...     return x * 2\n",
    "    >>> def add3(x):\n",
    "    ...     return x + 3\n",
    "    >>> my_cycle = cycle(add1, times2, add3)\n",
    "    >>> identity = my_cycle(0)\n",
    "    >>> identity(5)\n",
    "    5\n",
    "    >>> add_one_then_double = my_cycle(2)\n",
    "    >>> add_one_then_double(1)\n",
    "    4\n",
    "    >>> do_all_functions = my_cycle(3)\n",
    "    >>> do_all_functions(2)\n",
    "    9\n",
    "    >>> do_more_than_a_cycle = my_cycle(4)\n",
    "    >>> do_more_than_a_cycle(2)\n",
    "    10\n",
    "    >>> do_two_cycles = my_cycle(6)\n",
    "    >>> do_two_cycles(1)\n",
    "    19\n",
    "    \"\"\"\n",
    "    \"*** YOUR CODE HERE ***\"\n",
    "    def func(n):\n",
    "        def func2(x):\n",
    "            i = 1\n",
    "            while i <= n:\n",
    "                if i % 3 == 1:\n",
    "                    x = f1(x)\n",
    "                elif i % 3 == 2:\n",
    "                    x = f2(x)\n",
    "                else:\n",
    "                    x = f3(x)\n",
    "                i += 1\n",
    "            return x\n",
    "        return func2\n",
    "    return func\n",
    "\n",
    "print(cycle(lambda x: x + 1, lambda x: x * 2, lambda x: x + 3)(0)(5))\n",
    "\n",
    "print(cycle(lambda x: x + 1, lambda x: x * 2, lambda x: x + 3)(2)(1))\n",
    "\n",
    "print(cycle(lambda x: x + 1, lambda x: x * 2, lambda x: x + 3)(3)(2))\n",
    "\n",
    "print(cycle(lambda x: x + 1, lambda x: x * 2, lambda x: x + 3)(4)(2))\n",
    "\n",
    "print(cycle(lambda x: x + 1, lambda x: x * 2, lambda x: x + 3)(6)(1))"
   ]
  }
 ],
 "metadata": {
  "kernelspec": {
   "display_name": "Python 3",
   "language": "python",
   "name": "python3"
  },
  "language_info": {
   "codemirror_mode": {
    "name": "ipython",
    "version": 3
   },
   "file_extension": ".py",
   "mimetype": "text/x-python",
   "name": "python",
   "nbconvert_exporter": "python",
   "pygments_lexer": "ipython3",
   "version": "3.13.2"
  }
 },
 "nbformat": 4,
 "nbformat_minor": 5
}
