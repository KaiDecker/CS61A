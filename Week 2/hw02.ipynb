{
 "cells": [
  {
   "cell_type": "code",
   "execution_count": 1,
   "id": "df2c0f7c",
   "metadata": {},
   "outputs": [],
   "source": [
    "from operator import add, mul\n",
    "\n",
    "def square(x):\n",
    "    return x * x\n",
    "\n",
    "def identity(x):\n",
    "    return x\n",
    "\n",
    "def triple(x):\n",
    "    return 3 * x\n",
    "\n",
    "def increment(x):\n",
    "    return x + 1"
   ]
  },
  {
   "cell_type": "markdown",
   "id": "8209e73d",
   "metadata": {},
   "source": [
    "即对单个数字作用"
   ]
  },
  {
   "cell_type": "code",
   "execution_count": 3,
   "id": "d62a8403",
   "metadata": {},
   "outputs": [
    {
     "name": "stdout",
     "output_type": "stream",
     "text": [
      "6\n",
      "120\n",
      "36\n",
      "14400\n",
      "24\n",
      "162\n"
     ]
    }
   ],
   "source": [
    "def product(n, term):\n",
    "    \"\"\"Return the product of the first n terms in a sequence.\n",
    "\n",
    "    n: a positive integer\n",
    "    term: a function that takes an index as input and produces a term\n",
    "\n",
    "    >>> product(3, identity)  # 1 * 2 * 3\n",
    "    6\n",
    "    >>> product(5, identity)  # 1 * 2 * 3 * 4 * 5\n",
    "    120\n",
    "    >>> product(3, square)    # 1^2 * 2^2 * 3^2\n",
    "    36\n",
    "    >>> product(5, square)    # 1^2 * 2^2 * 3^2 * 4^2 * 5^2\n",
    "    14400\n",
    "    >>> product(3, increment) # (1+1) * (2+1) * (3+1)\n",
    "    24\n",
    "    >>> product(3, triple)    # 1*3 * 2*3 * 3*3\n",
    "    162\n",
    "    \"\"\"\n",
    "    \"*** YOUR CODE HERE ***\"\n",
    "    total, k = 1, 1\n",
    "    while k <= n:\n",
    "        total, k = total * term(k), k + 1\n",
    "    return total\n",
    "\n",
    "print(product(3, identity))\n",
    "\n",
    "print(product(5, identity))\n",
    "\n",
    "print(product(3, square))\n",
    "\n",
    "print(product(5, square))\n",
    "\n",
    "print(product(3, increment))\n",
    "\n",
    "print(product(3, triple))"
   ]
  },
  {
   "cell_type": "code",
   "execution_count": 4,
   "id": "81056d23",
   "metadata": {},
   "outputs": [
    {
     "name": "stdout",
     "output_type": "stream",
     "text": [
      "15\n",
      "26\n",
      "11\n",
      "25\n",
      "72\n",
      "19\n"
     ]
    }
   ],
   "source": [
    "def accumulate(fuse, start, n, term):\n",
    "    \"\"\"Return the result of fusing together the first n terms in a sequence \n",
    "    and start.  The terms to be fused are term(1), term(2), ..., term(n). \n",
    "    The function fuse is a two-argument commutative & associative function.\n",
    "\n",
    "    >>> accumulate(add, 0, 5, identity)  # 0 + 1 + 2 + 3 + 4 + 5\n",
    "    15\n",
    "    >>> accumulate(add, 11, 5, identity) # 11 + 1 + 2 + 3 + 4 + 5\n",
    "    26\n",
    "    >>> accumulate(add, 11, 0, identity) # 11 (fuse is never used)\n",
    "    11\n",
    "    >>> accumulate(add, 11, 3, square)   # 11 + 1^2 + 2^2 + 3^2\n",
    "    25\n",
    "    >>> accumulate(mul, 2, 3, square)    # 2 * 1^2 * 2^2 * 3^2\n",
    "    72\n",
    "    >>> # 2 + (1^2 + 1) + (2^2 + 1) + (3^2 + 1)\n",
    "    >>> accumulate(lambda x, y: x + y + 1, 2, 3, square)\n",
    "    19\n",
    "    \"\"\"\n",
    "    \"*** YOUR CODE HERE ***\"\n",
    "    total, k = start, 1\n",
    "    while k <= n:\n",
    "        total, k = fuse(total, term(k)), k + 1\n",
    "    return total\n",
    "\n",
    "print(accumulate(add, 0, 5, identity))\n",
    "\n",
    "print(accumulate(add, 11, 5, identity))\n",
    "\n",
    "print(accumulate(add, 11, 0, identity))\n",
    "\n",
    "print(accumulate(add, 11, 3, square))\n",
    "\n",
    "print(accumulate(mul, 2, 3, square))\n",
    "\n",
    "print(accumulate(lambda x, y: x + y + 1, 2, 3, square))"
   ]
  },
  {
   "cell_type": "code",
   "execution_count": 5,
   "id": "eae07dd1",
   "metadata": {},
   "outputs": [],
   "source": [
    "def summation_using_accumulate(n, term):\n",
    "    \"\"\"Returns the sum: term(1) + ... + term(n), using accumulate.\n",
    "\n",
    "    >>> summation_using_accumulate(5, square) # square(1) + square(2) + ... + square(4) + square(5)\n",
    "    55\n",
    "    >>> summation_using_accumulate(5, triple) # triple(1) + triple(2) + ... + triple(4) + triple(5)\n",
    "    45\n",
    "    >>> # This test checks that the body of the function is just a return statement.\n",
    "    >>> import inspect, ast\n",
    "    >>> [type(x).__name__ for x in ast.parse(inspect.getsource(summation_using_accumulate)).body[0].body]\n",
    "    ['Expr', 'Return']\n",
    "    \"\"\"\n",
    "    return accumulate(add, 0, n, term)\n",
    "\n",
    "def product_using_accumulate(n, term):\n",
    "    \"\"\"Returns the product: term(1) * ... * term(n), using accumulate.\n",
    "\n",
    "    >>> product_using_accumulate(4, square) # square(1) * square(2) * square(3) * square()\n",
    "    576\n",
    "    >>> product_using_accumulate(6, triple) # triple(1) * triple(2) * ... * triple(5) * triple(6)\n",
    "    524880\n",
    "    >>> # This test checks that the body of the function is just a return statement.\n",
    "    >>> import inspect, ast\n",
    "    >>> [type(x).__name__ for x in ast.parse(inspect.getsource(product_using_accumulate)).body[0].body]\n",
    "    ['Expr', 'Return']\n",
    "    \"\"\"\n",
    "    return accumulate(mul, 1, n, term)"
   ]
  },
  {
   "cell_type": "markdown",
   "id": "3b5fc293",
   "metadata": {},
   "source": [
    "使用了闭包的思想"
   ]
  },
  {
   "cell_type": "code",
   "execution_count": 7,
   "id": "45620914",
   "metadata": {},
   "outputs": [
    {
     "name": "stdout",
     "output_type": "stream",
     "text": [
      "8\n",
      "243\n",
      "625\n",
      "390625\n"
     ]
    }
   ],
   "source": [
    "def make_repeater(f, n):\n",
    "    \"\"\"Returns the function that computes the nth application of f.\n",
    "\n",
    "    >>> add_three = make_repeater(increment, 3)\n",
    "    >>> add_three(5)\n",
    "    8\n",
    "    >>> make_repeater(triple, 5)(1) # 3 * (3 * (3 * (3 * (3 * 1))))\n",
    "    243\n",
    "    >>> make_repeater(square, 2)(5) # square(square(5))\n",
    "    625\n",
    "    >>> make_repeater(square, 3)(5) # square(square(square(5)))\n",
    "    390625\n",
    "    \"\"\"\n",
    "    \"*** YOUR CODE HERE ***\"\n",
    "    def repeat(x):\n",
    "        total, k = x, 0\n",
    "        while k < n:\n",
    "            total, k = f(total), k + 1\n",
    "        return total\n",
    "    return repeat\n",
    "\n",
    "print(make_repeater(increment, 3)(5))\n",
    "\n",
    "print(make_repeater(triple, 5)(1))\n",
    "\n",
    "print(make_repeater(square, 2)(5))\n",
    "\n",
    "print(make_repeater(square, 3)(5))"
   ]
  }
 ],
 "metadata": {
  "kernelspec": {
   "display_name": "Python 3",
   "language": "python",
   "name": "python3"
  },
  "language_info": {
   "codemirror_mode": {
    "name": "ipython",
    "version": 3
   },
   "file_extension": ".py",
   "mimetype": "text/x-python",
   "name": "python",
   "nbconvert_exporter": "python",
   "pygments_lexer": "ipython3",
   "version": "3.13.2"
  }
 },
 "nbformat": 4,
 "nbformat_minor": 5
}
