{
 "cells": [
  {
   "cell_type": "markdown",
   "id": "fed83279",
   "metadata": {},
   "source": [
    "此处时为了找到一个组合，使其能够永久循环或者无法运行"
   ]
  },
  {
   "cell_type": "code",
   "execution_count": null,
   "id": "cd68a5c0",
   "metadata": {},
   "outputs": [],
   "source": [
    "def race(x, y):\n",
    "    \"\"\"The tortoise always walks x feet per minute, while the hare repeatedly\n",
    "    runs y feet per minute for 5 minutes, then rests for 5 minutes. Return how\n",
    "    many minutes pass until the tortoise first catches up to the hare.\n",
    "\n",
    "    >>> race(5, 7)  # After 7 minutes, both have gone 35 steps\n",
    "    7\n",
    "    >>> race(2, 4) # After 10 minutes, both have gone 20 steps\n",
    "    10\n",
    "    \"\"\"\n",
    "    assert y > x and y <= 2 * x, 'the hare must be fast but not too fast'\n",
    "    tortoise, hare, minutes = 0, 0, 0\n",
    "    while minutes == 0 or tortoise - hare:\n",
    "        tortoise += x\n",
    "        if minutes % 10 < 5:\n",
    "            hare += y\n",
    "        minutes += 1\n",
    "    return minutes\n",
    "\n",
    "print(race(6, 7)) # 此为永久循环"
   ]
  },
  {
   "cell_type": "code",
   "execution_count": 3,
   "id": "9ba23959",
   "metadata": {},
   "outputs": [
    {
     "name": "stdout",
     "output_type": "stream",
     "text": [
      "1\n",
      "2\n",
      "fizz\n",
      "4\n",
      "buzz\n",
      "fizz\n",
      "7\n",
      "8\n",
      "fizz\n",
      "buzz\n",
      "11\n",
      "fizz\n",
      "13\n",
      "14\n",
      "fizzbuzz\n",
      "16\n",
      "None\n"
     ]
    }
   ],
   "source": [
    "def fizzbuzz(n):\n",
    "    \"\"\"\n",
    "    >>> result = fizzbuzz(16)\n",
    "    1\n",
    "    2\n",
    "    fizz\n",
    "    4\n",
    "    buzz\n",
    "    fizz\n",
    "    7\n",
    "    8\n",
    "    fizz\n",
    "    buzz\n",
    "    11\n",
    "    fizz\n",
    "    13\n",
    "    14\n",
    "    fizzbuzz\n",
    "    16\n",
    "    >>> print(result)\n",
    "    None\n",
    "    \"\"\"\n",
    "    \"*** YOUR CODE HERE ***\"\n",
    "    for i in range(1, n + 1):\n",
    "        if i % 3 == 0 and i % 5 == 0:\n",
    "            print(\"fizzbuzz\")\n",
    "        elif i % 3 == 0:\n",
    "            print(\"fizz\")\n",
    "        elif i % 5 == 0:\n",
    "            print(\"buzz\")\n",
    "        else:\n",
    "            print(i)\n",
    "    return None\n",
    "\n",
    "print(fizzbuzz(16))"
   ]
  },
  {
   "cell_type": "code",
   "execution_count": 5,
   "id": "04184f6d",
   "metadata": {},
   "outputs": [
    {
     "name": "stdout",
     "output_type": "stream",
     "text": [
      "False\n",
      "True\n",
      "False\n"
     ]
    }
   ],
   "source": [
    "def is_prime(n):\n",
    "    \"\"\"\n",
    "    >>> is_prime(10)\n",
    "    False\n",
    "    >>> is_prime(7)\n",
    "    True\n",
    "    >>> is_prime(1) # one is not a prime number!!\n",
    "    False\n",
    "    \"\"\"\n",
    "    \"*** YOUR CODE HERE ***\"\n",
    "    if n == 1:\n",
    "        return False\n",
    "    k = 2\n",
    "    while k < n:\n",
    "        if n % k == 0:\n",
    "            return False\n",
    "        k += 1\n",
    "    return True\n",
    "\n",
    "print(is_prime(10))\n",
    "\n",
    "print(is_prime(7))\n",
    "\n",
    "print(is_prime(1))"
   ]
  },
  {
   "cell_type": "markdown",
   "id": "e70c26d8",
   "metadata": {},
   "source": [
    "目前的想法有两种方法，第一种使用数组，将不同数字存入，最后输出其数组长度。\n",
    "\n",
    "第二种需要用到另一个函数，思想差不多"
   ]
  },
  {
   "cell_type": "code",
   "execution_count": null,
   "id": "b82a9551",
   "metadata": {},
   "outputs": [
    {
     "name": "stdout",
     "output_type": "stream",
     "text": [
      "7\n",
      "3\n",
      "2\n"
     ]
    }
   ],
   "source": [
    "def unique_digits(n):\n",
    "    \"\"\"Return the number of unique digits in positive integer n.\n",
    "\n",
    "    >>> unique_digits(8675309) # All are unique\n",
    "    7\n",
    "    >>> unique_digits(13173131) # 1, 3, and 7\n",
    "    3\n",
    "    >>> unique_digits(101) # 0 and 1\n",
    "    2\n",
    "    \"\"\"\n",
    "    \"*** YOUR CODE HERE ***\"\n",
    "    unique = []\n",
    "    while n > 0:\n",
    "        digit = n % 10\n",
    "        if digit not in unique:\n",
    "            unique.append(digit)\n",
    "        n //= 10\n",
    "    return len(unique)\n",
    "\n",
    "print(unique_digits(8675309))\n",
    "\n",
    "print(unique_digits(13173131))\n",
    "\n",
    "print(unique_digits(101))\n",
    "\n",
    "def unique_digits(n):\n",
    "    \"\"\"Return the number of unique digits in positive integer n.\n",
    "\n",
    "    >>> unique_digits(8675309) # All are unique\n",
    "    7\n",
    "    >>> unique_digits(13173131) # 1, 3, and 7\n",
    "    3\n",
    "    >>> unique_digits(101) # 0 and 1\n",
    "    2\n",
    "    \"\"\"\n",
    "    unique = 0\n",
    "    while n > 0:\n",
    "        last = n % 10\n",
    "        n = n // 10\n",
    "        if not has_digit(n, last):\n",
    "            unique += 1\n",
    "    return unique\n",
    "    \n",
    "def has_digit(n, k):\n",
    "    \"\"\"Returns whether k is a digit in n.\n",
    "\n",
    "    >>> has_digit(10, 1)\n",
    "    True\n",
    "    >>> has_digit(12, 7)\n",
    "    False\n",
    "    \"\"\"\n",
    "    assert k >= 0 and k < 10\n",
    "    \"*** YOUR CODE HERE ***\"\n",
    "    while n > 0:\n",
    "        if n % 10 == k:\n",
    "            return True\n",
    "        n //= 10\n",
    "    return False"
   ]
  }
 ],
 "metadata": {
  "kernelspec": {
   "display_name": "Python 3",
   "language": "python",
   "name": "python3"
  },
  "language_info": {
   "codemirror_mode": {
    "name": "ipython",
    "version": 3
   },
   "file_extension": ".py",
   "mimetype": "text/x-python",
   "name": "python",
   "nbconvert_exporter": "python",
   "pygments_lexer": "ipython3",
   "version": "3.13.2"
  }
 },
 "nbformat": 4,
 "nbformat_minor": 5
}
