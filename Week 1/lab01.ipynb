{
 "cells": [
  {
   "cell_type": "code",
   "execution_count": 4,
   "id": "309d58b5",
   "metadata": {},
   "outputs": [
    {
     "name": "stdout",
     "output_type": "stream",
     "text": [
      "120\n",
      "24\n",
      "4\n",
      "1\n"
     ]
    }
   ],
   "source": [
    "def falling(n, k):\n",
    "    \"\"\"Compute the falling factorial of n to depth k.\n",
    "\n",
    "    >>> falling(6, 3)  # 6 * 5 * 4\n",
    "    120\n",
    "    >>> falling(4, 3)  # 4 * 3 * 2\n",
    "    24\n",
    "    >>> falling(4, 1)  # 4\n",
    "    4\n",
    "    >>> falling(4, 0)\n",
    "    1\n",
    "    \"\"\"\n",
    "    \"*** YOUR CODE HERE ***\"\n",
    "    total = 1\n",
    "    while k > 0:\n",
    "        total *= n\n",
    "        n -= 1\n",
    "        k -= 1\n",
    "    return total\n",
    "\n",
    "print(falling(6, 3))\n",
    "\n",
    "print(falling(4, 3))\n",
    "\n",
    "print(falling(4, 1))\n",
    "\n",
    "print(falling(4, 0))"
   ]
  },
  {
   "cell_type": "code",
   "execution_count": 6,
   "id": "9cef0891",
   "metadata": {},
   "outputs": [
    {
     "name": "stdout",
     "output_type": "stream",
     "text": [
      "10\n",
      "8\n",
      "6\n",
      "4\n",
      "2\n",
      "5\n",
      "3\n",
      "2\n",
      "1\n",
      "3\n",
      "0\n"
     ]
    }
   ],
   "source": [
    "def divisible_by_k(n, k):\n",
    "    \"\"\"\n",
    "    >>> a = divisible_by_k(10, 2)  # 2, 4, 6, 8, and 10 are divisible by 2\n",
    "    2\n",
    "    4\n",
    "    6\n",
    "    8\n",
    "    10\n",
    "    >>> a\n",
    "    5\n",
    "    >>> b = divisible_by_k(3, 1)  # 1, 2, and 3 are divisible by 1\n",
    "    1\n",
    "    2\n",
    "    3\n",
    "    >>> b\n",
    "    3\n",
    "    >>> c = divisible_by_k(6, 7)  # There are no integers up to 6 that are divisible by 7\n",
    "    >>> c\n",
    "    0\n",
    "    \"\"\"\n",
    "    \"*** YOUR CODE HERE ***\"\n",
    "    total = 0\n",
    "    while n > 0:\n",
    "        if n % k == 0:\n",
    "            print(n)\n",
    "            total += 1\n",
    "        n -= 1\n",
    "    return total\n",
    "\n",
    "print(divisible_by_k(10, 2))\n",
    "\n",
    "print(divisible_by_k(3, 1))\n",
    "\n",
    "print(divisible_by_k(6, 7))"
   ]
  },
  {
   "cell_type": "code",
   "execution_count": 7,
   "id": "476dd0c3",
   "metadata": {},
   "outputs": [
    {
     "name": "stdout",
     "output_type": "stream",
     "text": [
      "1\n",
      "12\n",
      "45\n",
      "6\n"
     ]
    }
   ],
   "source": [
    "def sum_digits(y):\n",
    "    \"\"\"Sum all the digits of y.\n",
    "\n",
    "    >>> sum_digits(10) # 1 + 0 = 1\n",
    "    1\n",
    "    >>> sum_digits(4224) # 4 + 2 + 2 + 4 = 12\n",
    "    12\n",
    "    >>> sum_digits(1234567890)\n",
    "    45\n",
    "    >>> a = sum_digits(123) # make sure that you are using return rather than print\n",
    "    >>> a\n",
    "    6\n",
    "    \"\"\"\n",
    "    \"*** YOUR CODE HERE ***\"\n",
    "    last, total = 0, 0\n",
    "    while y > 0:\n",
    "        last, y = y % 10, y // 10\n",
    "        total += last\n",
    "    return total\n",
    "\n",
    "print(sum_digits(10))\n",
    "\n",
    "print(sum_digits(4224))\n",
    "\n",
    "print(sum_digits(1234567890))\n",
    "\n",
    "print(sum_digits(123))"
   ]
  },
  {
   "cell_type": "markdown",
   "id": "8e287b6b",
   "metadata": {},
   "source": [
    "即从最后一个数字算起，每次算最后一个数字和最后数字的前一个数字是否为8"
   ]
  },
  {
   "cell_type": "code",
   "execution_count": 9,
   "id": "445f903e",
   "metadata": {},
   "outputs": [
    {
     "name": "stdout",
     "output_type": "stream",
     "text": [
      "False\n",
      "True\n",
      "True\n",
      "True\n",
      "False\n",
      "False\n"
     ]
    }
   ],
   "source": [
    "def double_eights(n):\n",
    "    \"\"\"Return true if n has two eights in a row.\n",
    "    >>> double_eights(8)\n",
    "    False\n",
    "    >>> double_eights(88)\n",
    "    True\n",
    "    >>> double_eights(2882)\n",
    "    True\n",
    "    >>> double_eights(880088)\n",
    "    True\n",
    "    >>> double_eights(12345)\n",
    "    False\n",
    "    >>> double_eights(80808080)\n",
    "    False\n",
    "    \"\"\"\n",
    "    \"*** YOUR CODE HERE ***\"\n",
    "    while n >= 10:\n",
    "        if n % 10 == 8 and (n // 10) % 10 == 8:\n",
    "            return True\n",
    "        n //= 10\n",
    "    return False\n",
    "\n",
    "print(double_eights(8))\n",
    "\n",
    "print(double_eights(88))\n",
    "\n",
    "print(double_eights(2882))\n",
    "\n",
    "print(double_eights(880088))\n",
    "\n",
    "print(double_eights(12345))\n",
    "\n",
    "print(double_eights(80808080))"
   ]
  },
  {
   "cell_type": "code",
   "execution_count": null,
   "id": "f48b4b98",
   "metadata": {},
   "outputs": [
    {
     "name": "stdout",
     "output_type": "stream",
     "text": [
      "4\n",
      "5\n",
      "5\n",
      "30\n"
     ]
    }
   ],
   "source": [
    "def middle(a, b, c):\n",
    "    \"\"\"Return the number among a, b, and c that is not the smallest or largest.\n",
    "    Assume a, b, and c are all different numbers.\n",
    "\n",
    "    >>> middle(3, 5, 4)\n",
    "    4\n",
    "    >>> middle(30, 5, 4)\n",
    "    5\n",
    "    >>> middle(3, 5, 40)\n",
    "    5\n",
    "    >>> middle(30, 5, 40)\n",
    "    30\n",
    "    \"\"\"\n",
    "    return a + b + c - min(a, b, c) - max(a, b, c)\n",
    "\n",
    "print(middle(3, 5, 4))\n",
    "\n",
    "print(middle(30, 5, 4))\n",
    "\n",
    "print(middle(3, 5, 40))\n",
    "\n",
    "print(middle(30, 5, 40))"
   ]
  },
  {
   "cell_type": "code",
   "execution_count": 11,
   "id": "72e30ddb",
   "metadata": {},
   "outputs": [
    {
     "name": "stdout",
     "output_type": "stream",
     "text": [
      "5\n",
      "9\n",
      "0\n"
     ]
    }
   ],
   "source": [
    "def digit(n, k):\n",
    "    \"\"\"Return the k-th digit from the right of n for positive integers n and k.\n",
    "\n",
    "    >>> digit(3579, 2)\n",
    "    5\n",
    "    >>> digit(3579, 0)\n",
    "    9\n",
    "    >>> digit(3579, 10)\n",
    "    0\n",
    "    \"\"\"\n",
    "    return (n // (10 ** k)) % 10\n",
    "\n",
    "print(digit(3579, 2))\n",
    "\n",
    "print(digit(3579, 0))\n",
    "\n",
    "print(digit(3579, 10))"
   ]
  }
 ],
 "metadata": {
  "kernelspec": {
   "display_name": "Python 3",
   "language": "python",
   "name": "python3"
  },
  "language_info": {
   "codemirror_mode": {
    "name": "ipython",
    "version": 3
   },
   "file_extension": ".py",
   "mimetype": "text/x-python",
   "name": "python",
   "nbconvert_exporter": "python",
   "pygments_lexer": "ipython3",
   "version": "3.13.2"
  }
 },
 "nbformat": 4,
 "nbformat_minor": 5
}
