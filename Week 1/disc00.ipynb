{
 "cells": [
  {
   "cell_type": "markdown",
   "id": "f3b99e0e",
   "metadata": {},
   "source": [
    "想法是将2025拆分成20和25，之后分别计算"
   ]
  },
  {
   "cell_type": "code",
   "execution_count": 1,
   "id": "0b5e8578",
   "metadata": {},
   "outputs": [
    {
     "data": {
      "text/plain": [
       "2025"
      ]
     },
     "execution_count": 1,
     "metadata": {},
     "output_type": "execute_result"
    }
   ],
   "source": [
    "def f(x):\n",
    "    return x - 1\n",
    "def g(x):\n",
    "    return (x + 1) * 2\n",
    "def h(x, y):\n",
    "    return int(str(x) + str(y))\n",
    "\n",
    "h(g(f(g(f(5)))), f(g(g(5))))"
   ]
  }
 ],
 "metadata": {
  "kernelspec": {
   "display_name": "Python 3",
   "language": "python",
   "name": "python3"
  },
  "language_info": {
   "codemirror_mode": {
    "name": "ipython",
    "version": 3
   },
   "file_extension": ".py",
   "mimetype": "text/x-python",
   "name": "python",
   "nbconvert_exporter": "python",
   "pygments_lexer": "ipython3",
   "version": "3.13.2"
  }
 },
 "nbformat": 4,
 "nbformat_minor": 5
}
