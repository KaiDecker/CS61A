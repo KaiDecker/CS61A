{
 "cells": [
  {
   "cell_type": "code",
   "execution_count": 4,
   "id": "0b15fb45",
   "metadata": {},
   "outputs": [
    {
     "data": {
      "text/plain": [
       "2025"
      ]
     },
     "execution_count": 4,
     "metadata": {},
     "output_type": "execute_result"
    }
   ],
   "source": [
    "def twenty_twenty_five():\n",
    "    \"\"\"Come up with the most creative expression that evaluates to 2025\n",
    "    using only numbers and the +, *, and - operators (or ** and % if you'd like).\n",
    "\n",
    "    >>> twenty_twenty_five()\n",
    "    2025\n",
    "    \"\"\"\n",
    "    return ((10**4 - 5) % 50) ** 2\n",
    "\n",
    "twenty_twenty_five()"
   ]
  }
 ],
 "metadata": {
  "kernelspec": {
   "display_name": "Python 3",
   "language": "python",
   "name": "python3"
  },
  "language_info": {
   "codemirror_mode": {
    "name": "ipython",
    "version": 3
   },
   "file_extension": ".py",
   "mimetype": "text/x-python",
   "name": "python",
   "nbconvert_exporter": "python",
   "pygments_lexer": "ipython3",
   "version": "3.13.2"
  }
 },
 "nbformat": 4,
 "nbformat_minor": 5
}
