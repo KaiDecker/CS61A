{
 "cells": [
  {
   "cell_type": "markdown",
   "id": "9e881175",
   "metadata": {},
   "source": [
    "Q1: Big Fib"
   ]
  },
  {
   "cell_type": "code",
   "execution_count": 1,
   "id": "98db4311",
   "metadata": {},
   "outputs": [
    {
     "data": {
      "text/plain": [
       "2584"
      ]
     },
     "execution_count": 1,
     "metadata": {},
     "output_type": "execute_result"
    }
   ],
   "source": [
    "def gen_fib():\n",
    "    n, add = 0, 1\n",
    "    while True:\n",
    "        yield n\n",
    "        n, add = n + add, n\n",
    "# 第一个空需要用一个内置函数来创建一个只包含大于2024的数的迭代器，第二个空需要创建一个包含所有斐波那契数的迭代器。\n",
    "next(filter(lambda n: n > 2024, gen_fib()))"
   ]
  },
  {
   "cell_type": "markdown",
   "id": "83351468",
   "metadata": {},
   "source": [
    "Q2: Something Different"
   ]
  },
  {
   "cell_type": "code",
   "execution_count": 2,
   "id": "da89acf5",
   "metadata": {},
   "outputs": [],
   "source": [
    "def differences(t):\n",
    "    \"\"\"Yield the differences between adjacent values from iterator t.\n",
    "\n",
    "    >>> list(differences(iter([5, 2, -100, 103])))\n",
    "    [-3, -102, 203]\n",
    "    >>> next(differences(iter([39, 100])))\n",
    "    61\n",
    "    \"\"\"\n",
    "    \"*** YOUR CODE HERE ***\"\n",
    "    last_x = next(t) # 先取出迭代器的第一个元素，作为“前一个值”\n",
    "    for x in t: # 从“第二个元素”开始遍历到结尾\n",
    "        yield x - last_x\n",
    "        last_x = x"
   ]
  },
  {
   "cell_type": "markdown",
   "id": "56e3e988",
   "metadata": {},
   "source": [
    "Q3: Partitions"
   ]
  },
  {
   "cell_type": "code",
   "execution_count": 3,
   "id": "91b5cb02",
   "metadata": {},
   "outputs": [],
   "source": [
    "def partition_gen(n, m):\n",
    "    \"\"\"Yield the partitions of n using parts up to size m.\n",
    "\n",
    "    >>> for partition in sorted(partition_gen(6, 4)):\n",
    "    ...     print(partition)\n",
    "    1 + 1 + 1 + 1 + 1 + 1\n",
    "    1 + 1 + 1 + 1 + 2\n",
    "    1 + 1 + 1 + 3\n",
    "    1 + 1 + 2 + 2\n",
    "    1 + 1 + 4\n",
    "    1 + 2 + 3\n",
    "    2 + 2 + 2\n",
    "    2 + 4\n",
    "    3 + 3\n",
    "    \"\"\"\n",
    "    assert n > 0 and m > 0\n",
    "    if n == m: # 三个 if 语句都相互独立\n",
    "        yield str(n)\n",
    "    if n - m > 0: # 用 m 来配\n",
    "        \"*** YOUR CODE HERE ***\"\n",
    "        for p in partition_gen(n - m, m):\n",
    "            yield p + ' + ' + str(m)\n",
    "    if m > 1: # 将 m 下降到 m - 1\n",
    "        \"*** YOUR CODE HERE ***\"\n",
    "        yield from partition_gen(n, m - 1)"
   ]
  }
 ],
 "metadata": {
  "kernelspec": {
   "display_name": "Python 3",
   "language": "python",
   "name": "python3"
  },
  "language_info": {
   "codemirror_mode": {
    "name": "ipython",
    "version": 3
   },
   "file_extension": ".py",
   "mimetype": "text/x-python",
   "name": "python",
   "nbconvert_exporter": "python",
   "pygments_lexer": "ipython3",
   "version": "3.13.2"
  }
 },
 "nbformat": 4,
 "nbformat_minor": 5
}
