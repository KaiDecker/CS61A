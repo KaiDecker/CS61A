{
 "cells": [
  {
   "cell_type": "markdown",
   "id": "44c4a421",
   "metadata": {},
   "source": [
    "Q2: Insert Items"
   ]
  },
  {
   "cell_type": "code",
   "execution_count": 1,
   "id": "fcc0d890",
   "metadata": {},
   "outputs": [],
   "source": [
    "def insert_items(s, before, after):\n",
    "    \"\"\"Insert after into s after each occurrence of before and then return s.\n",
    "\n",
    "    >>> test_s = [1, 5, 8, 5, 2, 3]\n",
    "    >>> new_s = insert_items(test_s, 5, 7)\n",
    "    >>> new_s\n",
    "    [1, 5, 7, 8, 5, 7, 2, 3]\n",
    "    >>> test_s\n",
    "    [1, 5, 7, 8, 5, 7, 2, 3]\n",
    "    >>> new_s is test_s\n",
    "    True\n",
    "    >>> double_s = [1, 2, 1, 2, 3, 3]\n",
    "    >>> double_s = insert_items(double_s, 3, 4)\n",
    "    >>> double_s\n",
    "    [1, 2, 1, 2, 3, 4, 3, 4]\n",
    "    >>> large_s = [1, 4, 8]\n",
    "    >>> large_s2 = insert_items(large_s, 4, 4)\n",
    "    >>> large_s2\n",
    "    [1, 4, 4, 8]\n",
    "    >>> large_s3 = insert_items(large_s2, 4, 6)\n",
    "    >>> large_s3\n",
    "    [1, 4, 6, 4, 6, 8]\n",
    "    >>> large_s3 is large_s\n",
    "    True\n",
    "    \"\"\"\n",
    "    \"*** YOUR CODE HERE ***\"\n",
    "    index = 0\n",
    "    while index < len(s):\n",
    "        if s[index] == before:\n",
    "            s.insert(index + 1, after)\n",
    "            index += 1\n",
    "        index += 1\n",
    "    return s"
   ]
  },
  {
   "cell_type": "markdown",
   "id": "dbb89c23",
   "metadata": {},
   "source": [
    "Q3: Group By"
   ]
  },
  {
   "cell_type": "code",
   "execution_count": 2,
   "id": "15806b58",
   "metadata": {},
   "outputs": [],
   "source": [
    "def group_by(s, fn):\n",
    "    \"\"\"Return a dictionary of lists that together contain the elements of s.\n",
    "    The key for each list is the value that fn returns when called on any of the\n",
    "    values of that list.\n",
    "\n",
    "    >>> group_by([12, 23, 14, 45], lambda p: p // 10)\n",
    "    {1: [12, 14], 2: [23], 4: [45]}\n",
    "    >>> group_by(range(-3, 4), lambda x: x * x)\n",
    "    {9: [-3, 3], 4: [-2, 2], 1: [-1, 1], 0: [0]}\n",
    "    \"\"\"\n",
    "    grouped = {}\n",
    "    for e in s:\n",
    "        key = fn(e)\n",
    "        if key in grouped:\n",
    "            grouped[key].append(e)\n",
    "        else:\n",
    "            grouped[key] = [e] # 左右两边必须都为列表\n",
    "    return grouped"
   ]
  },
  {
   "cell_type": "markdown",
   "id": "fefafedb",
   "metadata": {},
   "source": [
    "Q5: Count Occurrences"
   ]
  },
  {
   "cell_type": "code",
   "execution_count": 3,
   "id": "2e0d45e9",
   "metadata": {},
   "outputs": [],
   "source": [
    "def count_occurrences(t, n, x):\n",
    "    \"\"\"Return the number of times that x is equal to one of the\n",
    "    first n elements of iterator t.\n",
    "\n",
    "    >>> s = iter([10, 9, 10, 9, 9, 10, 8, 8, 8, 7])\n",
    "    >>> count_occurrences(s, 10, 9)\n",
    "    3\n",
    "    >>> t = iter([10, 9, 10, 9, 9, 10, 8, 8, 8, 7])\n",
    "    >>> count_occurrences(t, 3, 10)\n",
    "    2\n",
    "    >>> u = iter([3, 2, 2, 2, 1, 2, 1, 4, 4, 5, 5, 5])\n",
    "    >>> count_occurrences(u, 1, 3)  # Only iterate over 3\n",
    "    1\n",
    "    >>> count_occurrences(u, 3, 2)  # Only iterate over 2, 2, 2\n",
    "    3\n",
    "    >>> list(u)                     # Ensure that the iterator has advanced the right amount\n",
    "    [1, 2, 1, 4, 4, 5, 5, 5]\n",
    "    >>> v = iter([4, 1, 6, 6, 7, 7, 6, 6, 2, 2, 2, 5])\n",
    "    >>> count_occurrences(v, 6, 6)\n",
    "    2\n",
    "    \"\"\"\n",
    "    \"*** YOUR CODE HERE ***\"\n",
    "    count = 0\n",
    "    for _ in range(n):\n",
    "        if next(t) == x:\n",
    "            count += 1\n",
    "    return count"
   ]
  },
  {
   "cell_type": "markdown",
   "id": "dc724595",
   "metadata": {},
   "source": [
    "Q6: Repeated"
   ]
  },
  {
   "cell_type": "code",
   "execution_count": 4,
   "id": "021d34c4",
   "metadata": {},
   "outputs": [],
   "source": [
    "def repeated(t, k):\n",
    "    \"\"\"Return the first value in iterator t that appears k times in a row,\n",
    "    calling next on t as few times as possible.\n",
    "\n",
    "    >>> s = iter([10, 9, 10, 9, 9, 10, 8, 8, 8, 7])\n",
    "    >>> repeated(s, 2)\n",
    "    9\n",
    "    >>> t = iter([10, 9, 10, 9, 9, 10, 8, 8, 8, 7])\n",
    "    >>> repeated(t, 3)\n",
    "    8\n",
    "    >>> u = iter([3, 2, 2, 2, 1, 2, 1, 4, 4, 5, 5, 5])\n",
    "    >>> repeated(u, 3)\n",
    "    2\n",
    "    >>> repeated(u, 3)\n",
    "    5\n",
    "    >>> v = iter([4, 1, 6, 6, 7, 7, 8, 8, 2, 2, 2, 5])\n",
    "    >>> repeated(v, 3)\n",
    "    2\n",
    "    \"\"\"\n",
    "    assert k > 1\n",
    "    \"*** YOUR CODE HERE ***\"\n",
    "    count = 0\n",
    "    last_item = None\n",
    "    while True:\n",
    "        item = next(t)\n",
    "        if item == last_item:\n",
    "            count += 1\n",
    "        else:\n",
    "            last_item = item\n",
    "            count = 1\n",
    "        if count == k:\n",
    "            return item"
   ]
  },
  {
   "cell_type": "markdown",
   "id": "3d6db26c",
   "metadata": {},
   "source": [
    "Q7: Sprout Leaves"
   ]
  },
  {
   "cell_type": "code",
   "execution_count": 5,
   "id": "b670f89d",
   "metadata": {},
   "outputs": [],
   "source": [
    "def tree(label, branches=[]):\n",
    "    for branch in branches:\n",
    "        assert is_tree(branch), 'branches must be trees'\n",
    "    return [label] + list(branches)\n",
    "\n",
    "def label(tree):\n",
    "    return tree[0]\n",
    "\n",
    "def branches(tree):\n",
    "    return tree[1:]\n",
    "\n",
    "def is_leaf(tree):\n",
    "    return not branches(tree)\n",
    "\n",
    "def is_tree(tree):\n",
    "    if type(tree) != list or len(tree) < 1:\n",
    "        return False\n",
    "    for branch in branches(tree):\n",
    "        if not is_tree(branch):\n",
    "            return False\n",
    "    return True"
   ]
  },
  {
   "cell_type": "code",
   "execution_count": 6,
   "id": "5a021f67",
   "metadata": {},
   "outputs": [],
   "source": [
    "def sprout_leaves(t, leaves):\n",
    "    \"\"\"Sprout new leaves containing the labels in leaves at each leaf of\n",
    "    the original tree t and return the resulting tree.\n",
    "\n",
    "    >>> t1 = tree(1, [tree(2), tree(3)])\n",
    "    >>> print_tree(t1)\n",
    "    1\n",
    "      2\n",
    "      3\n",
    "    >>> new1 = sprout_leaves(t1, [4, 5])\n",
    "    >>> print_tree(new1)\n",
    "    1\n",
    "      2\n",
    "        4\n",
    "        5\n",
    "      3\n",
    "        4\n",
    "        5\n",
    "\n",
    "    >>> t2 = tree(1, [tree(2, [tree(3)])])\n",
    "    >>> print_tree(t2)\n",
    "    1\n",
    "      2\n",
    "        3\n",
    "    >>> new2 = sprout_leaves(t2, [6, 1, 2])\n",
    "    >>> print_tree(new2)\n",
    "    1\n",
    "      2\n",
    "        3\n",
    "          6\n",
    "          1\n",
    "          2\n",
    "    \"\"\"\n",
    "    \"*** YOUR CODE HERE ***\"\n",
    "    if is_leaf(t):\n",
    "        # 把 leaves 中的值变成这个叶子的子节点\n",
    "        return tree(label(t), [tree(x) for x in leaves])\n",
    "    else:\n",
    "        # 非叶子：递归处理每个分支\n",
    "        new_branches = [sprout_leaves(b, leaves) for b in branches(t)]\n",
    "        return tree(label(t), new_branches)"
   ]
  },
  {
   "cell_type": "markdown",
   "id": "291063af",
   "metadata": {},
   "source": [
    "Q8: Partial Reverse"
   ]
  },
  {
   "cell_type": "code",
   "execution_count": 7,
   "id": "e36256cc",
   "metadata": {},
   "outputs": [],
   "source": [
    "def partial_reverse(s, start):\n",
    "    \"\"\"Reverse part of a list in-place, starting with start up to the end of\n",
    "    the list.\n",
    "\n",
    "    >>> a = [1, 2, 3, 4, 5, 6, 7]\n",
    "    >>> partial_reverse(a, 2)\n",
    "    >>> a\n",
    "    [1, 2, 7, 6, 5, 4, 3]\n",
    "    >>> partial_reverse(a, 5)\n",
    "    >>> a\n",
    "    [1, 2, 7, 6, 5, 3, 4]\n",
    "    \"\"\"\n",
    "    \"*** YOUR CODE HERE ***\"\n",
    "    i, j = start, len(s) - 1\n",
    "    while i < j:\n",
    "        s[i], s[j] = s[j], s[i]  # 原地交换\n",
    "        i += 1\n",
    "        j -= 1"
   ]
  }
 ],
 "metadata": {
  "kernelspec": {
   "display_name": "Python 3",
   "language": "python",
   "name": "python3"
  },
  "language_info": {
   "codemirror_mode": {
    "name": "ipython",
    "version": 3
   },
   "file_extension": ".py",
   "mimetype": "text/x-python",
   "name": "python",
   "nbconvert_exporter": "python",
   "pygments_lexer": "ipython3",
   "version": "3.13.2"
  }
 },
 "nbformat": 4,
 "nbformat_minor": 5
}
