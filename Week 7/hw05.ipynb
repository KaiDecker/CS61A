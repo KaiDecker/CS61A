{
 "cells": [
  {
   "cell_type": "markdown",
   "id": "04023de8",
   "metadata": {},
   "source": [
    "Q1: Infinite Hailstone"
   ]
  },
  {
   "cell_type": "code",
   "execution_count": 1,
   "id": "6c6eaf00",
   "metadata": {},
   "outputs": [],
   "source": [
    "def hailstone(n):\n",
    "    \"\"\"Q1: Yields the elements of the hailstone sequence starting at n.\n",
    "       At the end of the sequence, yield 1 infinitely.\n",
    "\n",
    "    >>> hail_gen = hailstone(10)\n",
    "    >>> [next(hail_gen) for _ in range(10)]\n",
    "    [10, 5, 16, 8, 4, 2, 1, 1, 1, 1]\n",
    "    >>> next(hail_gen)\n",
    "    1\n",
    "    \"\"\"\n",
    "    \"*** YOUR CODE HERE ***\"\n",
    "    yield n\n",
    "    if n == 1:\n",
    "        yield from hailstone(n)\n",
    "    elif n % 2 == 0:\n",
    "        yield from hailstone(n // 2)\n",
    "    else:\n",
    "        yield from hailstone(n * 3 + 1)"
   ]
  },
  {
   "cell_type": "markdown",
   "id": "376cba39",
   "metadata": {},
   "source": [
    "Q2: Merge"
   ]
  },
  {
   "cell_type": "code",
   "execution_count": 2,
   "id": "7f329a0a",
   "metadata": {},
   "outputs": [],
   "source": [
    "def merge(a, b):\n",
    "    \"\"\"Q2:\n",
    "    >>> def sequence(start, step):\n",
    "    ...     while True:\n",
    "    ...         yield start\n",
    "    ...         start += step\n",
    "    >>> a = sequence(2, 3) # 2, 5, 8, 11, 14, ...\n",
    "    >>> b = sequence(3, 2) # 3, 5, 7, 9, 11, 13, 15, ...\n",
    "    >>> result = merge(a, b) # 2, 3, 5, 7, 8, 9, 11, 13, 14, 15\n",
    "    >>> [next(result) for _ in range(10)]\n",
    "    [2, 3, 5, 7, 8, 9, 11, 13, 14, 15]\n",
    "    \"\"\"\n",
    "    \"*** YOUR CODE HERE ***\"\n",
    "    first_a, first_b = next(a), next(b) # 先各自取一个“当前值”（同时会消耗掉迭代器的第一个元素）\n",
    "    while True:\n",
    "        if first_a == first_b: # 值相等：只产出一次，两个迭代器都前进一步\n",
    "            yield first_a\n",
    "            first_a, first_b = next(a), next(b)\n",
    "        elif first_a < first_b: # a 较小：产出 a 的当前值，并让 a 向前推进\n",
    "            yield first_a\n",
    "            first_a = next(a)\n",
    "        else: # b 较小：产出 b 的当前值，并让 b 向前推进\n",
    "            yield first_b\n",
    "            first_b = next(b)"
   ]
  },
  {
   "cell_type": "markdown",
   "id": "18199c1b",
   "metadata": {},
   "source": [
    "Q3: Yield Paths"
   ]
  },
  {
   "cell_type": "code",
   "execution_count": 3,
   "id": "f60325d1",
   "metadata": {},
   "outputs": [],
   "source": [
    "def tree(label, branches=[]):\n",
    "    for branch in branches:\n",
    "        assert is_tree(branch), 'branches must be trees'\n",
    "    return [label] + list(branches)\n",
    "\n",
    "def label(tree):\n",
    "    return tree[0]\n",
    "\n",
    "def branches(tree):\n",
    "    return tree[1:]\n",
    "\n",
    "def is_leaf(tree):\n",
    "    return not branches(tree)\n",
    "\n",
    "def is_tree(tree):\n",
    "    if type(tree) != list or len(tree) < 1:\n",
    "        return False\n",
    "    for branch in branches(tree):\n",
    "        if not is_tree(branch):\n",
    "            return False\n",
    "    return True"
   ]
  },
  {
   "cell_type": "code",
   "execution_count": 4,
   "id": "906759b0",
   "metadata": {},
   "outputs": [],
   "source": [
    "def yield_paths(t, value):\n",
    "    \"\"\"Q4: Yields all possible paths from the root of t to a node with the label\n",
    "    value as a list.\n",
    "\n",
    "    >>> t1 = tree(1, [tree(2, [tree(3), tree(4, [tree(6)]), tree(5)]), tree(5)])\n",
    "    >>> print_tree(t1)\n",
    "    1\n",
    "      2\n",
    "        3\n",
    "        4\n",
    "          6\n",
    "        5\n",
    "      5\n",
    "    >>> next(yield_paths(t1, 6))\n",
    "    [1, 2, 4, 6]\n",
    "    >>> path_to_5 = yield_paths(t1, 5)\n",
    "    >>> sorted(list(path_to_5))\n",
    "    [[1, 2, 5], [1, 5]]\n",
    "\n",
    "    >>> t2 = tree(0, [tree(2, [t1])])\n",
    "    >>> print_tree(t2)\n",
    "    0\n",
    "      2\n",
    "        1\n",
    "          2\n",
    "            3\n",
    "            4\n",
    "              6\n",
    "            5\n",
    "          5\n",
    "    >>> path_to_2 = yield_paths(t2, 2)\n",
    "    >>> sorted(list(path_to_2))\n",
    "    [[0, 2], [0, 2, 1, 2]]\n",
    "    \"\"\"\n",
    "    if label(t) == value:\n",
    "        yield [value]\n",
    "    for b in branches(t):\n",
    "        for path in yield_paths(b, value):\n",
    "            yield [label(t) + path]\n"
   ]
  }
 ],
 "metadata": {
  "kernelspec": {
   "display_name": "Python 3",
   "language": "python",
   "name": "python3"
  },
  "language_info": {
   "codemirror_mode": {
    "name": "ipython",
    "version": 3
   },
   "file_extension": ".py",
   "mimetype": "text/x-python",
   "name": "python",
   "nbconvert_exporter": "python",
   "pygments_lexer": "ipython3",
   "version": "3.13.2"
  }
 },
 "nbformat": 4,
 "nbformat_minor": 5
}
