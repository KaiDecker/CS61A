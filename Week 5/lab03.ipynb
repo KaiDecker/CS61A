{
 "cells": [
  {
   "cell_type": "markdown",
   "id": "dd8c1a70",
   "metadata": {},
   "source": [
    "Q2: Print If"
   ]
  },
  {
   "cell_type": "code",
   "execution_count": 24,
   "id": "7029aefc",
   "metadata": {},
   "outputs": [],
   "source": [
    "def print_if(s, f):\n",
    "    \"\"\"Print each element of s for which f returns a true value.\n",
    "\n",
    "    >>> print_if([3, 4, 5, 6], lambda x: x > 4)\n",
    "    5\n",
    "    6\n",
    "    >>> result = print_if([3, 4, 5, 6], lambda x: x % 2 == 0)\n",
    "    4\n",
    "    6\n",
    "    >>> print(result)  # print_if should return None\n",
    "    None\n",
    "    \"\"\"\n",
    "    for x in s:\n",
    "        \"*** YOUR CODE HERE ***\"\n",
    "        if f(x):\n",
    "            print(x)\n",
    "    return None"
   ]
  },
  {
   "cell_type": "markdown",
   "id": "62e24d9c",
   "metadata": {},
   "source": [
    "Q3: Close"
   ]
  },
  {
   "cell_type": "code",
   "execution_count": 25,
   "id": "0a0ca2a4",
   "metadata": {},
   "outputs": [],
   "source": [
    "def close(s, k):\n",
    "    \"\"\"Return how many elements of s that are within k of their index.\n",
    "\n",
    "    >>> t = [6, 2, 4, 3, 5]\n",
    "    >>> close(t, 0)  # Only 3 is equal to its index\n",
    "    1\n",
    "    >>> close(t, 1)  # 2, 3, and 5 are within 1 of their index\n",
    "    3\n",
    "    >>> close(t, 2)  # 2, 3, 4, and 5 are all within 2 of their index\n",
    "    4\n",
    "    >>> close(list(range(10)), 0)\n",
    "    10\n",
    "    \"\"\"\n",
    "    count = 0\n",
    "    for i in range(len(s)):  # Use a range to loop over indices\n",
    "        \"*** YOUR CODE HERE ***\"\n",
    "        if abs(s[i] - i) <= k:\n",
    "            count += 1\n",
    "    return count"
   ]
  },
  {
   "cell_type": "markdown",
   "id": "5d1cc4e0",
   "metadata": {},
   "source": [
    "Q5: Close List"
   ]
  },
  {
   "cell_type": "code",
   "execution_count": 26,
   "id": "ef1b50dc",
   "metadata": {},
   "outputs": [],
   "source": [
    "def close_list(s, k):\n",
    "    \"\"\"Return a list of the elements of s that are within k of their index.\n",
    "\n",
    "    >>> t = [6, 2, 4, 3, 5]\n",
    "    >>> close_list(t, 0)  # Only 3 is equal to its index\n",
    "    [3]\n",
    "    >>> close_list(t, 1)  # 2, 3, and 5 are within 1 of their index\n",
    "    [2, 3, 5]\n",
    "    >>> close_list(t, 2)  # 2, 3, 4, and 5 are all within 2 of their index\n",
    "    [2, 4, 3, 5]\n",
    "    \"\"\"\n",
    "    return [s[i] for i in range(len(s)) if abs(s[i] - i) <= k]"
   ]
  },
  {
   "cell_type": "markdown",
   "id": "049e6cc2",
   "metadata": {},
   "source": [
    "Q6: Squares Only"
   ]
  },
  {
   "cell_type": "code",
   "execution_count": 27,
   "id": "cf3c1215",
   "metadata": {},
   "outputs": [],
   "source": [
    "from math import sqrt\n",
    "\n",
    "def squares(s):\n",
    "    \"\"\"Returns a new list containing square roots of the elements of the\n",
    "    original list that are perfect squares.\n",
    "\n",
    "    >>> seq = [8, 49, 8, 9, 2, 1, 100, 102]\n",
    "    >>> squares(seq)\n",
    "    [7, 3, 1, 10]\n",
    "    >>> seq = [500, 30]\n",
    "    >>> squares(seq)\n",
    "    []\n",
    "    \"\"\"\n",
    "    return [int(sqrt(n)) for n in s if round(sqrt(n)) ** 2 == n]"
   ]
  },
  {
   "cell_type": "markdown",
   "id": "48be8506",
   "metadata": {},
   "source": [
    "Q7: Double Eights"
   ]
  },
  {
   "cell_type": "code",
   "execution_count": 28,
   "id": "ec7bea37",
   "metadata": {},
   "outputs": [],
   "source": [
    "def double_eights(n):\n",
    "    \"\"\" Returns whether or not n has two digits in row that\n",
    "    are the number 8. Assume n has at least two digits in it.\n",
    "\n",
    "    >>> double_eights(1288)\n",
    "    True\n",
    "    >>> double_eights(880)\n",
    "    True\n",
    "    >>> double_eights(538835)\n",
    "    True\n",
    "    >>> double_eights(284682)\n",
    "    False\n",
    "    >>> double_eights(588138)\n",
    "    True\n",
    "    >>> double_eights(78)\n",
    "    False\n",
    "    >>> from construct_check import check\n",
    "    >>> # ban iteration\n",
    "    >>> check(LAB_SOURCE_FILE, 'double_eights', ['While', 'For'])\n",
    "    True\n",
    "    \"\"\"\n",
    "    \"*** YOUR CODE HERE ***\"\n",
    "    last, second_last = n % 10, n // 10 % 10\n",
    "    if n < 10:\n",
    "        return False\n",
    "    return (last == 8 and second_last == 8) or double_eights(n // 10)"
   ]
  },
  {
   "cell_type": "markdown",
   "id": "50935c7a",
   "metadata": {},
   "source": [
    "Q8: Making Onions"
   ]
  },
  {
   "cell_type": "code",
   "execution_count": 29,
   "id": "fcfca2fd",
   "metadata": {},
   "outputs": [],
   "source": [
    "def make_onion(f, g):\n",
    "    \"\"\"Return a function can_reach(x, y, limit) that returns\n",
    "    whether some call expression containing only f, g, and x with\n",
    "    up to limit calls will give the result y.\n",
    "\n",
    "    >>> up = lambda x: x + 1\n",
    "    >>> double = lambda y: y * 2\n",
    "    >>> can_reach = make_onion(up, double)\n",
    "    >>> can_reach(5, 25, 4)      # 25 = up(double(double(up(5))))\n",
    "    True\n",
    "    >>> can_reach(5, 25, 3)      # Not possible\n",
    "    False\n",
    "    >>> can_reach(1, 1, 0)      # 1 = 1\n",
    "    True\n",
    "    >>> add_ing = lambda x: x + \"ing\"\n",
    "    >>> add_end = lambda y: y + \"end\"\n",
    "    >>> can_reach_string = make_onion(add_ing, add_end)\n",
    "    >>> can_reach_string(\"cry\", \"crying\", 1)      # \"crying\" = add_ing(\"cry\")\n",
    "    True\n",
    "    >>> can_reach_string(\"un\", \"unending\", 3)     # \"unending\" = add_ing(add_end(\"un\"))\n",
    "    True\n",
    "    >>> can_reach_string(\"peach\", \"folding\", 4)   # Not possible\n",
    "    False\n",
    "    \"\"\"\n",
    "    def can_reach(x, y, limit):\n",
    "        if limit < 0:\n",
    "            return False\n",
    "        elif x == y:\n",
    "            return True\n",
    "        else:\n",
    "            return can_reach(f(x), y, limit - 1) or can_reach(g(x), y, limit - 1)\n",
    "    return can_reach"
   ]
  }
 ],
 "metadata": {
  "kernelspec": {
   "display_name": "Python 3",
   "language": "python",
   "name": "python3"
  },
  "language_info": {
   "codemirror_mode": {
    "name": "ipython",
    "version": 3
   },
   "file_extension": ".py",
   "mimetype": "text/x-python",
   "name": "python",
   "nbconvert_exporter": "python",
   "pygments_lexer": "ipython3",
   "version": "3.13.2"
  }
 },
 "nbformat": 4,
 "nbformat_minor": 5
}
