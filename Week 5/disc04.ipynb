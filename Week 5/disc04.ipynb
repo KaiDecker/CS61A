{
 "cells": [
  {
   "cell_type": "markdown",
   "id": "b9396007",
   "metadata": {},
   "source": [
    "Q1: Insect Combinatorics"
   ]
  },
  {
   "cell_type": "code",
   "execution_count": 4,
   "id": "e7f95f50",
   "metadata": {},
   "outputs": [],
   "source": [
    "def paths(m, n):\n",
    "    \"\"\"Return the number of paths from one corner of an\n",
    "    M by N grid to the opposite corner.\n",
    "\n",
    "    >>> paths(2, 2)\n",
    "    2\n",
    "    >>> paths(5, 7)\n",
    "    210\n",
    "    >>> paths(117, 1)\n",
    "    1\n",
    "    >>> paths(1, 157)\n",
    "    1\n",
    "    \"\"\"\n",
    "    \"*** YOUR CODE HERE ***\"\n",
    "    if m == 1 or n == 1:\n",
    "        return 1\n",
    "    return paths(m - 1, n) + paths(m, n - 1) # 递归的结果为从右边和上边走到终点的路径数之和"
   ]
  },
  {
   "cell_type": "markdown",
   "id": "5b39abf5",
   "metadata": {},
   "source": [
    "Q2: Max Product"
   ]
  },
  {
   "cell_type": "code",
   "execution_count": 5,
   "id": "ff83d084",
   "metadata": {},
   "outputs": [],
   "source": [
    "def max_product(s):\n",
    "    \"\"\"Return the maximum product of non-consecutive elements of s.\n",
    "\n",
    "    >>> max_product([10, 3, 1, 9, 2])   # 10 * 9\n",
    "    90\n",
    "    >>> max_product([5, 10, 5, 10, 5])  # 5 * 5 * 5\n",
    "    125\n",
    "    >>> max_product([])                 # The product of no numbers is 1\n",
    "    1\n",
    "    \"\"\"\n",
    "    if not s:\n",
    "        return 1\n",
    "    elif len(s) == 1:\n",
    "        return s[0]\n",
    "    else:\n",
    "        return max(s[0] * max_product(s[2:]), max_product(s[1:]))\n",
    "    # 首先尝试将第一个元素乘以第一个元素之后所有元素的max_product（跳过第二个元素，因为它与第一个元素是连续的），然后尝试跳过第一个元素并找到其余元素的max_product。使用 max 函数来确定哪个结果更大。"
   ]
  },
  {
   "cell_type": "markdown",
   "id": "4821f2d2",
   "metadata": {},
   "source": [
    "Q3: Sum Fun"
   ]
  },
  {
   "cell_type": "code",
   "execution_count": 6,
   "id": "898768d2",
   "metadata": {},
   "outputs": [],
   "source": [
    "def sums(n, m):\n",
    "    \"\"\"Return lists that sum to n containing positive numbers up to m that\n",
    "    have no adjacent repeats.\n",
    "\n",
    "    >>> sums(5, 1)\n",
    "    []\n",
    "    >>> sums(5, 2)\n",
    "    [[2, 1, 2]]\n",
    "    >>> sums(5, 3)\n",
    "    [[1, 3, 1], [2, 1, 2], [2, 3], [3, 2]]\n",
    "    >>> sums(5, 5)\n",
    "    [[1, 3, 1], [1, 4], [2, 1, 2], [2, 3], [3, 2], [4, 1], [5]]\n",
    "    >>> sums(6, 3)\n",
    "    [[1, 2, 1, 2], [1, 2, 3], [1, 3, 2], [2, 1, 2, 1], [2, 1, 3], [2, 3, 1], [3, 1, 2], [3, 2, 1]]\n",
    "    \"\"\"\n",
    "    if n < 0:\n",
    "        return []\n",
    "    if n == 0:\n",
    "        sums_to_zero = []     # The only way to sum to zero using positives\n",
    "        return [sums_to_zero] # Return a list of all the ways to sum to zero\n",
    "    result = []\n",
    "    for k in range(1, m + 1):\n",
    "        result = result + [ [k] for rest in sums(n - k, m) if rest == [] or rest[0] != k ]\n",
    "    return result"
   ]
  }
 ],
 "metadata": {
  "kernelspec": {
   "display_name": "Python 3",
   "language": "python",
   "name": "python3"
  },
  "language_info": {
   "codemirror_mode": {
    "name": "ipython",
    "version": 3
   },
   "file_extension": ".py",
   "mimetype": "text/x-python",
   "name": "python",
   "nbconvert_exporter": "python",
   "pygments_lexer": "ipython3",
   "version": "3.13.2"
  }
 },
 "nbformat": 4,
 "nbformat_minor": 5
}
