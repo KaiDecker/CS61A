{
 "cells": [
  {
   "cell_type": "markdown",
   "id": "0a278b34",
   "metadata": {},
   "source": [
    "Q1: Swipe"
   ]
  },
  {
   "cell_type": "code",
   "execution_count": 14,
   "id": "62b7bbe7",
   "metadata": {},
   "outputs": [],
   "source": [
    "def swipe(n):\n",
    "    \"\"\"Print the digits of n, one per line, first backward then forward.\n",
    "\n",
    "    >>> swipe(2837)\n",
    "    7\n",
    "    3\n",
    "    8\n",
    "    2\n",
    "    8\n",
    "    3\n",
    "    7\n",
    "    \"\"\"\n",
    "    if n < 10:\n",
    "        print(n)\n",
    "    else:\n",
    "        \"*** YOUR CODE HERE ***\" # 即课上所说的之前(before)和之后(after)的print\n",
    "        print(n % 10)\n",
    "        swipe(n // 10)\n",
    "    print(n % 10)"
   ]
  },
  {
   "cell_type": "markdown",
   "id": "ef9de8a0",
   "metadata": {},
   "source": [
    "Q2: Skip Factorial"
   ]
  },
  {
   "cell_type": "code",
   "execution_count": 15,
   "id": "e9d3b34e",
   "metadata": {},
   "outputs": [],
   "source": [
    "def skip_factorial(n):\n",
    "    \"\"\"Return the product of positive integers n * (n - 2) * (n - 4) * ...\n",
    "\n",
    "    >>> skip_factorial(5) # 5 * 3 * 1\n",
    "    15\n",
    "    >>> skip_factorial(8) # 8 * 6 * 4 * 2\n",
    "    384\n",
    "    \"\"\"\n",
    "    if n <= 1:\n",
    "        return 1\n",
    "    else:\n",
    "        return n * skip_factorial(n - 2)"
   ]
  },
  {
   "cell_type": "markdown",
   "id": "8927d5eb",
   "metadata": {},
   "source": [
    "Q3: Is Prime"
   ]
  },
  {
   "cell_type": "code",
   "execution_count": 16,
   "id": "904dc15c",
   "metadata": {},
   "outputs": [],
   "source": [
    "def is_prime(n):\n",
    "    \"\"\"Returns True if n is a prime number and False otherwise.\n",
    "    >>> is_prime(2)\n",
    "    True\n",
    "    >>> is_prime(16)\n",
    "    False\n",
    "    >>> is_prime(521)\n",
    "    True\n",
    "    \"\"\"\n",
    "    \"*** YOUR CODE HERE ***\"\n",
    "    def helper(k):\n",
    "        if k * k > n: # 只需要检查到sqrt(n)，即使用试除法\n",
    "            return True\n",
    "        elif n % k == 0:\n",
    "            return False\n",
    "        else:\n",
    "            return helper(k + 1)\n",
    "    return helper(2)"
   ]
  },
  {
   "cell_type": "markdown",
   "id": "caf0dad3",
   "metadata": {},
   "source": [
    "Q4: Recursive Hailstone"
   ]
  },
  {
   "cell_type": "code",
   "execution_count": 17,
   "id": "9dd92706",
   "metadata": {},
   "outputs": [],
   "source": [
    "def hailstone(n):\n",
    "    \"\"\"Print out the hailstone sequence starting at n, \n",
    "    and return the number of elements in the sequence.\n",
    "    >>> a = hailstone(10)\n",
    "    10\n",
    "    5\n",
    "    16\n",
    "    8\n",
    "    4\n",
    "    2\n",
    "    1\n",
    "    >>> a\n",
    "    7\n",
    "    >>> b = hailstone(1)\n",
    "    1\n",
    "    >>> b\n",
    "    1\n",
    "    \"\"\"\n",
    "    print(n)\n",
    "    if n % 2 == 0:\n",
    "        return even(n)\n",
    "    else:\n",
    "        return odd(n)\n",
    "\n",
    "def even(n):\n",
    "    return hailstone(n // 2) + 1 # 总是多1，是为了计算其序列长度\n",
    "def odd(n):\n",
    "    \"*** YOUR CODE HERE ***\"\n",
    "    if n == 1:\n",
    "        return 1\n",
    "    else:\n",
    "        return hailstone(n * 3 + 1) + 1"
   ]
  },
  {
   "cell_type": "markdown",
   "id": "0fc07934",
   "metadata": {},
   "source": [
    "Q5: Sevens"
   ]
  },
  {
   "cell_type": "code",
   "execution_count": 18,
   "id": "1c2f576d",
   "metadata": {},
   "outputs": [],
   "source": [
    "def sevens(n, k):\n",
    "    \"\"\"Return the (clockwise) position of who says n among k players.\n",
    "\n",
    "    >>> sevens(2, 5)\n",
    "    2\n",
    "    >>> sevens(6, 5)\n",
    "    1\n",
    "    >>> sevens(7, 5)\n",
    "    2\n",
    "    >>> sevens(8, 5)\n",
    "    1\n",
    "    >>> sevens(9, 5)\n",
    "    5\n",
    "    >>> sevens(18, 5)\n",
    "    2\n",
    "    \"\"\"\n",
    "    def f(i, who, direction):\n",
    "        if i == n:\n",
    "            return who\n",
    "        \"*** YOUR CODE HERE ***\"\n",
    "        if has_seven(i) or i % 7 == 0:\n",
    "            return f(i + 1, (who - direction - 1) % k + 1, -direction) # 取%k是为了循环\n",
    "        else:\n",
    "            return f(i + 1, (who + direction - 1) % k + 1, direction)\n",
    "    return f(1, 1, 1)\n",
    "\n",
    "def has_seven(n):\n",
    "    if n == 0:\n",
    "        return False\n",
    "    elif n % 10 == 7:\n",
    "        return True\n",
    "    else:\n",
    "        return has_seven(n // 10)"
   ]
  },
  {
   "cell_type": "markdown",
   "id": "c2da8dd7",
   "metadata": {},
   "source": [
    "Q6: Karel the Robot\n",
    "\n",
    "目前没有实现"
   ]
  }
 ],
 "metadata": {
  "kernelspec": {
   "display_name": "Python 3",
   "language": "python",
   "name": "python3"
  },
  "language_info": {
   "codemirror_mode": {
    "name": "ipython",
    "version": 3
   },
   "file_extension": ".py",
   "mimetype": "text/x-python",
   "name": "python",
   "nbconvert_exporter": "python",
   "pygments_lexer": "ipython3",
   "version": "3.13.2"
  }
 },
 "nbformat": 4,
 "nbformat_minor": 5
}
