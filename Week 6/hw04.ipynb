{
 "cells": [
  {
   "cell_type": "markdown",
   "id": "1b683630",
   "metadata": {},
   "source": [
    "Q1: Deep Map"
   ]
  },
  {
   "cell_type": "code",
   "execution_count": 9,
   "id": "448abbcb",
   "metadata": {},
   "outputs": [],
   "source": [
    "def deep_map(f, s):\n",
    "    \"\"\"Replace all non-list elements x with f(x) in the nested list s.\n",
    "\n",
    "    >>> six = [1, 2, [3, [4], 5], 6]\n",
    "    >>> deep_map(lambda x: x * x, six)\n",
    "    >>> six\n",
    "    [1, 4, [9, [16], 25], 36]\n",
    "    >>> # Check that you're not making new lists\n",
    "    >>> s = [3, [1, [4, [1]]]]\n",
    "    >>> s1 = s[1]\n",
    "    >>> s2 = s1[1]\n",
    "    >>> s3 = s2[1]\n",
    "    >>> deep_map(lambda x: x + 1, s)\n",
    "    >>> s\n",
    "    [4, [2, [5, [2]]]]\n",
    "    >>> s1 is s[1]\n",
    "    True\n",
    "    >>> s2 is s1[1]\n",
    "    True\n",
    "    >>> s3 is s2[1]\n",
    "    True\n",
    "    \"\"\"\n",
    "    \"*** YOUR CODE HERE ***\"\n",
    "    for i in range(len(s)):\n",
    "        if type(s[i]) == list:\n",
    "            deep_map(f, s[i])\n",
    "        else:\n",
    "            s[i] = f(s[i])"
   ]
  },
  {
   "cell_type": "markdown",
   "id": "f8b18514",
   "metadata": {},
   "source": [
    "Q2: Mass"
   ]
  },
  {
   "cell_type": "code",
   "execution_count": 16,
   "id": "61688afc",
   "metadata": {},
   "outputs": [],
   "source": [
    "def mobile(left, right):\n",
    "    \"\"\"Construct a mobile from a left arm and a right arm.\"\"\"\n",
    "    assert is_arm(left), \"left must be an arm\"\n",
    "    assert is_arm(right), \"right must be an arm\"\n",
    "    return ['mobile', left, right]\n",
    "\n",
    "def is_mobile(m):\n",
    "    \"\"\"Return whether m is a mobile.\"\"\"\n",
    "    return type(m) == list and len(m) == 3 and m[0] == 'mobile'\n",
    "\n",
    "def left(m):\n",
    "    \"\"\"Select the left arm of a mobile.\"\"\"\n",
    "    assert is_mobile(m), \"must call left on a mobile\"\n",
    "    return m[1]\n",
    "\n",
    "def right(m):\n",
    "    \"\"\"Select the right arm of a mobile.\"\"\"\n",
    "    assert is_mobile(m), \"must call right on a mobile\"\n",
    "    return m[2]"
   ]
  },
  {
   "cell_type": "code",
   "execution_count": 15,
   "id": "b1306168",
   "metadata": {},
   "outputs": [],
   "source": [
    "def arm(length, mobile_or_planet):\n",
    "    \"\"\"Construct an arm: a length of rod with a mobile or planet at the end.\"\"\"\n",
    "    assert is_mobile(mobile_or_planet) or is_planet(mobile_or_planet)\n",
    "    return ['arm', length, mobile_or_planet]\n",
    "\n",
    "def is_arm(s):\n",
    "    \"\"\"Return whether s is an arm.\"\"\"\n",
    "    return type(s) == list and len(s) == 3 and s[0] == 'arm'\n",
    "\n",
    "def length(s):\n",
    "    \"\"\"Select the length of an arm.\"\"\"\n",
    "    assert is_arm(s), \"must call length on an arm\"\n",
    "    return s[1]\n",
    "\n",
    "def end(s):\n",
    "    \"\"\"Select the mobile or planet hanging at the end of an arm.\"\"\"\n",
    "    assert is_arm(s), \"must call end on an arm\"\n",
    "    return s[2]"
   ]
  },
  {
   "cell_type": "code",
   "execution_count": 13,
   "id": "187d7dfa",
   "metadata": {},
   "outputs": [],
   "source": [
    "def planet(mass):\n",
    "    \"\"\"Construct a planet of some mass.\"\"\"\n",
    "    assert mass > 0\n",
    "    \"*** YOUR CODE HERE ***\"\n",
    "    return ['planet', mass]\n",
    "\n",
    "def mass(p):\n",
    "    \"\"\"Select the mass of a planet.\"\"\"\n",
    "    assert is_planet(p), 'must call mass on a planet'\n",
    "    \"*** YOUR CODE HERE ***\"\n",
    "    return p[1]\n",
    "\n",
    "def is_planet(p):\n",
    "    \"\"\"Whether p is a planet.\"\"\"\n",
    "    return type(p) == list and len(p) == 2 and p[0] == 'planet'"
   ]
  },
  {
   "cell_type": "code",
   "execution_count": null,
   "id": "c9f069e3",
   "metadata": {},
   "outputs": [],
   "source": [
    "def examples(): # 例子\n",
    "    t = mobile(arm(1, planet(2)),\n",
    "               arm(2, planet(1)))\n",
    "    u = mobile(arm(5, planet(1)),\n",
    "               arm(1, mobile(arm(2, planet(3)),\n",
    "                             arm(3, planet(2)))))\n",
    "    v = mobile(arm(4, t), arm(2, u))\n",
    "    return t, u, v\n",
    "\n",
    "def total_mass(m): #总重量\n",
    "    \"\"\"Return the total mass of m, a planet or mobile.\n",
    "\n",
    "    >>> t, u, v = examples()\n",
    "    >>> total_mass(t)\n",
    "    3\n",
    "    >>> total_mass(u)\n",
    "    6\n",
    "    >>> total_mass(v)\n",
    "    9\n",
    "    \"\"\"\n",
    "    if is_planet(m):\n",
    "        return mass(m)\n",
    "    else:\n",
    "        assert is_mobile(m), \"must get total mass of a mobile or a planet\"\n",
    "        return total_mass(end(left(m))) + total_mass(end(right(m)))"
   ]
  },
  {
   "cell_type": "markdown",
   "id": "25dab007",
   "metadata": {},
   "source": [
    "Q3: Balanced"
   ]
  },
  {
   "cell_type": "code",
   "execution_count": null,
   "id": "3ae45e13",
   "metadata": {},
   "outputs": [],
   "source": [
    "def balanced(m):\n",
    "    \"\"\"Return whether m is balanced.\n",
    "\n",
    "    >>> t, u, v = examples()\n",
    "    >>> balanced(t)\n",
    "    True\n",
    "    >>> balanced(v)\n",
    "    True\n",
    "    >>> p = mobile(arm(3, t), arm(2, u))\n",
    "    >>> balanced(p)\n",
    "    False\n",
    "    >>> balanced(mobile(arm(1, v), arm(1, p)))\n",
    "    False\n",
    "    >>> balanced(mobile(arm(1, p), arm(1, v)))\n",
    "    False\n",
    "    >>> from construct_check import check\n",
    "    >>> # checking for abstraction barrier violations by banning indexing\n",
    "    >>> check(HW_SOURCE_FILE, 'balanced', ['Index'])\n",
    "    True\n",
    "    \"\"\"\n",
    "    \"*** YOUR CODE HERE ***\"\n",
    "    if m is planet:\n",
    "        return True\n",
    "    else:\n",
    "        left_end, right_end = end(left(m)), end(right(m)) # 确保之后的mobile也平衡\n",
    "        torque_left = length(left(m)) * total_mass(left_end) # 左扭矩\n",
    "        torque_right = length(right(m)) * total_mass(right_end) # 右扭矩\n",
    "        return torque_left == torque_right and balanced(left_end) and balanced(right_end) # 确保左扭距等于右扭矩，并且递归之后的mobile"
   ]
  },
  {
   "cell_type": "markdown",
   "id": "7a51dae8",
   "metadata": {},
   "source": [
    "Q4: Maximum Path Sum"
   ]
  },
  {
   "cell_type": "code",
   "execution_count": null,
   "id": "8adb6fe0",
   "metadata": {},
   "outputs": [],
   "source": [
    "def tree(label, branches=[]):\n",
    "    for branch in branches:\n",
    "        assert is_tree(branch), 'branches must be trees'\n",
    "    return [label] + list(branches)\n",
    "\n",
    "def label(tree):\n",
    "    return tree[0]\n",
    "\n",
    "def branches(tree):\n",
    "    return tree[1:]\n",
    "\n",
    "def is_leaf(tree):\n",
    "    return not branches(tree)\n",
    "\n",
    "def is_tree(tree):\n",
    "    if type(tree) != list or len(tree) < 1:\n",
    "        return False\n",
    "    for branch in branches(tree):\n",
    "        if not is_tree(branch):\n",
    "            return False\n",
    "    return True"
   ]
  },
  {
   "cell_type": "code",
   "execution_count": null,
   "id": "0cca0a65",
   "metadata": {},
   "outputs": [],
   "source": [
    "def max_path_sum(t):\n",
    "    \"\"\"Return the maximum root-to-leaf path sum of a tree.\n",
    "    >>> t = tree(1, [tree(5, [tree(1), tree(3)]), tree(10)])\n",
    "    >>> max_path_sum(t) # 1, 10\n",
    "    11\n",
    "    >>> t2 = tree(5, [tree(4, [tree(1), tree(3)]), tree(2, [tree(10), tree(3)])])\n",
    "    >>> max_path_sum(t2) # 5, 2, 10\n",
    "    17\n",
    "    \"\"\"\n",
    "    \"*** YOUR CODE HERE ***\"\n",
    "    if is_leaf(t):\n",
    "      return label(t)\n",
    "    else:\n",
    "      return label(t) + max([max_path_sum(b) for b in branches(t)])"
   ]
  }
 ],
 "metadata": {
  "kernelspec": {
   "display_name": "Python 3",
   "language": "python",
   "name": "python3"
  },
  "language_info": {
   "codemirror_mode": {
    "name": "ipython",
    "version": 3
   },
   "file_extension": ".py",
   "mimetype": "text/x-python",
   "name": "python",
   "nbconvert_exporter": "python",
   "pygments_lexer": "ipython3",
   "version": "3.13.2"
  }
 },
 "nbformat": 4,
 "nbformat_minor": 5
}
