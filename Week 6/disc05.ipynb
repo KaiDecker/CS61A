{
 "cells": [
  {
   "cell_type": "markdown",
   "id": "123f9ffc",
   "metadata": {},
   "source": [
    "Q2: Has Path"
   ]
  },
  {
   "cell_type": "code",
   "execution_count": 8,
   "id": "702d7805",
   "metadata": {},
   "outputs": [],
   "source": [
    "def tree(label, branches=[]):\n",
    "    for branch in branches:\n",
    "        assert is_tree(branch), 'branches must be trees'\n",
    "    return [label] + list(branches)\n",
    "\n",
    "def label(tree):\n",
    "    return tree[0]\n",
    "\n",
    "def branches(tree):\n",
    "    return tree[1:]\n",
    "\n",
    "def is_leaf(tree):\n",
    "    return not branches(tree)\n",
    "\n",
    "def is_tree(tree):\n",
    "    if type(tree) != list or len(tree) < 1:\n",
    "        return False\n",
    "    for branch in branches(tree):\n",
    "        if not is_tree(branch):\n",
    "            return False\n",
    "    return True"
   ]
  },
  {
   "cell_type": "code",
   "execution_count": 9,
   "id": "bb11a9b3",
   "metadata": {},
   "outputs": [],
   "source": [
    "def has_path(t, p):\n",
    "    \"\"\"Return whether tree t has a path from the root with labels p.\n",
    "\n",
    "    >>> t2 = tree(5, [tree(6), tree(7)])\n",
    "    >>> t1 = tree(3, [tree(4), t2])\n",
    "    >>> has_path(t1, [5, 6])        # This path is not from the root of t1\n",
    "    False\n",
    "    >>> has_path(t2, [5, 6])        # This path is from the root of t2\n",
    "    True\n",
    "    >>> has_path(t1, [3, 5])        # This path does not go to a leaf, but that's ok\n",
    "    True\n",
    "    >>> has_path(t1, [3, 5, 6])     # This path goes to a leaf\n",
    "    True\n",
    "    >>> has_path(t1, [3, 4, 5, 6])  # There is no path with these labels\n",
    "    False\n",
    "    \"\"\"\n",
    "    if p == [label(t)]:  # when len(p) is 1\n",
    "        return True\n",
    "    elif label(t) != p[0]:\n",
    "        return False\n",
    "    else:\n",
    "        \"*** YOUR CODE HERE ***\"\n",
    "        return any([has_path(b, p[1:]) for b in branches(t)]) #使用any，有任一分支为True则返回True"
   ]
  },
  {
   "cell_type": "markdown",
   "id": "88fba541",
   "metadata": {},
   "source": [
    "Q3: Find Path"
   ]
  },
  {
   "cell_type": "code",
   "execution_count": null,
   "id": "2873362f",
   "metadata": {},
   "outputs": [
    {
     "data": {
      "text/plain": [
       "[3, 5]"
      ]
     },
     "execution_count": 10,
     "metadata": {},
     "output_type": "execute_result"
    }
   ],
   "source": [
    "def find_path(t, x):\n",
    "    \"\"\"\n",
    "    >>> t2 = tree(5, [tree(6), tree(7)])\n",
    "    >>> t1 = tree(3, [tree(4), t2])\n",
    "    >>> find_path(t1, 5)\n",
    "    [3, 5]\n",
    "    >>> find_path(t1, 4)\n",
    "    [3, 4]\n",
    "    >>> find_path(t1, 6)\n",
    "    [3, 5, 6]\n",
    "    >>> find_path(t2, 6)\n",
    "    [5, 6]\n",
    "    >>> print(find_path(t1, 2))\n",
    "    None\n",
    "    \"\"\"\n",
    "    if label(t) == x:\n",
    "        return [label(t)]\n",
    "    for b in branches(t):\n",
    "        path = find_path(b, x)\n",
    "        if path:\n",
    "            return [label(t)] + path\n",
    "    return None"
   ]
  }
 ],
 "metadata": {
  "kernelspec": {
   "display_name": "Python 3",
   "language": "python",
   "name": "python3"
  },
  "language_info": {
   "codemirror_mode": {
    "name": "ipython",
    "version": 3
   },
   "file_extension": ".py",
   "mimetype": "text/x-python",
   "name": "python",
   "nbconvert_exporter": "python",
   "pygments_lexer": "ipython3",
   "version": "3.13.2"
  }
 },
 "nbformat": 4,
 "nbformat_minor": 5
}
